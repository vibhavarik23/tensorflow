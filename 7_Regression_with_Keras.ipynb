{
 "cells": [
  {
   "cell_type": "markdown",
   "id": "ddfb4c62-aa2a-4387-acc9-401cf1372bab",
   "metadata": {},
   "source": [
    "<h2>Regression Models with Keras</h2>\n",
    "\n",
    "<h3>Objective for this Notebook<h3>    \n",
    "<h5> 1. How to use the Keras library to build a regression model.</h5>\n",
    "<h5> 2. Download and Clean dataset </h5>\n",
    "<h5> 3. Build a Neural Network </h5>\n",
    "<h5> 4. Train and Test the Network. </h5>     \n",
    "\n"
   ]
  },
  {
   "cell_type": "markdown",
   "id": "7614d5d6-cb06-4da0-bd6d-7c6d05fbfdee",
   "metadata": {},
   "source": [
    "<a id=\"item31\"></a>\n"
   ]
  },
  {
   "cell_type": "markdown",
   "id": "59c3bc9e-4fdf-4ffe-aaf1-27e99ba2bcfe",
   "metadata": {},
   "source": [
    "## Download and Clean Dataset\n"
   ]
  },
  {
   "cell_type": "markdown",
   "id": "28e7cb02-0eba-4e08-b411-dd2c08c5c894",
   "metadata": {},
   "source": [
    "Let's start by importing the <em>pandas</em> and the Numpy libraries.\n"
   ]
  },
  {
   "cell_type": "code",
   "execution_count": null,
   "id": "6474aa10-7c6b-4366-9e13-1b093d14340f",
   "metadata": {},
   "outputs": [],
   "source": [
    "#!pip install numpy==1.21.4\n",
    "#!pip install pandas==1.3.4\n",
    "#!pip install keras==2.1.6"
   ]
  },
  {
   "cell_type": "code",
   "execution_count": 1,
   "id": "ce2c677e-9239-460e-bb41-8003063ce9f7",
   "metadata": {},
   "outputs": [],
   "source": [
    "import pandas as pd\n",
    "import numpy as np\n",
    "\n",
    "import warnings\n",
    "warnings.simplefilter('ignore', FutureWarning)"
   ]
  },
  {
   "cell_type": "markdown",
   "id": "63ae549e-5ccc-49ce-945d-fc3002294a1b",
   "metadata": {},
   "source": [
    "<strong>The dataset is about the compressive strength of different samples of concrete based on the volumes of the different ingredients that were used to make them. Ingredients include:</strong>\n",
    "\n",
    "<strong>1. Cement</strong>\n",
    "\n",
    "<strong>2. Blast Furnace Slag</strong>\n",
    "\n",
    "<strong>3. Fly Ash</strong>\n",
    "\n",
    "<strong>4. Water</strong>\n",
    "\n",
    "<strong>5. Superplasticizer</strong>\n",
    "\n",
    "<strong>6. Coarse Aggregate</strong>\n",
    "\n",
    "<strong>7. Fine Aggregate</strong>\n"
   ]
  },
  {
   "cell_type": "markdown",
   "id": "296a7166-be57-4ceb-a006-3d8e5950680c",
   "metadata": {},
   "source": [
    "Let's download the data and read it into a <em>pandas</em> dataframe.\n"
   ]
  },
  {
   "cell_type": "code",
   "execution_count": 4,
   "id": "4b61897d-4ec5-4bf6-a93d-d35c2350a565",
   "metadata": {},
   "outputs": [
    {
     "data": {
      "text/html": [
       "<div>\n",
       "<style scoped>\n",
       "    .dataframe tbody tr th:only-of-type {\n",
       "        vertical-align: middle;\n",
       "    }\n",
       "\n",
       "    .dataframe tbody tr th {\n",
       "        vertical-align: top;\n",
       "    }\n",
       "\n",
       "    .dataframe thead th {\n",
       "        text-align: right;\n",
       "    }\n",
       "</style>\n",
       "<table border=\"1\" class=\"dataframe\">\n",
       "  <thead>\n",
       "    <tr style=\"text-align: right;\">\n",
       "      <th></th>\n",
       "      <th>Cement</th>\n",
       "      <th>Blast Furnace Slag</th>\n",
       "      <th>Fly Ash</th>\n",
       "      <th>Water</th>\n",
       "      <th>Superplasticizer</th>\n",
       "      <th>Coarse Aggregate</th>\n",
       "      <th>Fine Aggregate</th>\n",
       "      <th>Age</th>\n",
       "      <th>Strength</th>\n",
       "    </tr>\n",
       "  </thead>\n",
       "  <tbody>\n",
       "    <tr>\n",
       "      <th>0</th>\n",
       "      <td>540.0</td>\n",
       "      <td>0.0</td>\n",
       "      <td>0.0</td>\n",
       "      <td>162.0</td>\n",
       "      <td>2.5</td>\n",
       "      <td>1040.0</td>\n",
       "      <td>676.0</td>\n",
       "      <td>28</td>\n",
       "      <td>79.99</td>\n",
       "    </tr>\n",
       "    <tr>\n",
       "      <th>1</th>\n",
       "      <td>540.0</td>\n",
       "      <td>0.0</td>\n",
       "      <td>0.0</td>\n",
       "      <td>162.0</td>\n",
       "      <td>2.5</td>\n",
       "      <td>1055.0</td>\n",
       "      <td>676.0</td>\n",
       "      <td>28</td>\n",
       "      <td>61.89</td>\n",
       "    </tr>\n",
       "    <tr>\n",
       "      <th>2</th>\n",
       "      <td>332.5</td>\n",
       "      <td>142.5</td>\n",
       "      <td>0.0</td>\n",
       "      <td>228.0</td>\n",
       "      <td>0.0</td>\n",
       "      <td>932.0</td>\n",
       "      <td>594.0</td>\n",
       "      <td>270</td>\n",
       "      <td>40.27</td>\n",
       "    </tr>\n",
       "    <tr>\n",
       "      <th>3</th>\n",
       "      <td>332.5</td>\n",
       "      <td>142.5</td>\n",
       "      <td>0.0</td>\n",
       "      <td>228.0</td>\n",
       "      <td>0.0</td>\n",
       "      <td>932.0</td>\n",
       "      <td>594.0</td>\n",
       "      <td>365</td>\n",
       "      <td>41.05</td>\n",
       "    </tr>\n",
       "    <tr>\n",
       "      <th>4</th>\n",
       "      <td>198.6</td>\n",
       "      <td>132.4</td>\n",
       "      <td>0.0</td>\n",
       "      <td>192.0</td>\n",
       "      <td>0.0</td>\n",
       "      <td>978.4</td>\n",
       "      <td>825.5</td>\n",
       "      <td>360</td>\n",
       "      <td>44.30</td>\n",
       "    </tr>\n",
       "  </tbody>\n",
       "</table>\n",
       "</div>"
      ],
      "text/plain": [
       "   Cement  Blast Furnace Slag  Fly Ash  Water  Superplasticizer  \\\n",
       "0   540.0                 0.0      0.0  162.0               2.5   \n",
       "1   540.0                 0.0      0.0  162.0               2.5   \n",
       "2   332.5               142.5      0.0  228.0               0.0   \n",
       "3   332.5               142.5      0.0  228.0               0.0   \n",
       "4   198.6               132.4      0.0  192.0               0.0   \n",
       "\n",
       "   Coarse Aggregate  Fine Aggregate  Age  Strength  \n",
       "0            1040.0           676.0   28     79.99  \n",
       "1            1055.0           676.0   28     61.89  \n",
       "2             932.0           594.0  270     40.27  \n",
       "3             932.0           594.0  365     41.05  \n",
       "4             978.4           825.5  360     44.30  "
      ]
     },
     "execution_count": 4,
     "metadata": {},
     "output_type": "execute_result"
    }
   ],
   "source": [
    "#concrete_data = pd.read_csv('https://s3-api.us-geo.objectstorage.softlayer.net/cf-courses-data/CognitiveClass/DL0101EN/labs/data/concrete_data.csv')\n",
    "concrete_data = pd.read_csv('datasets/concrete_data.csv')\n",
    "concrete_data.head()"
   ]
  },
  {
   "cell_type": "markdown",
   "id": "706bdfc7-091a-46cd-8f58-a4d3c6deebda",
   "metadata": {},
   "source": [
    "So the first concrete sample has 540 cubic meter of cement, 0 cubic meter of blast furnace slag, 0 cubic meter of fly ash, 162 cubic meter of water, 2.5 cubic meter of superplaticizer, 1040 cubic meter of coarse aggregate, 676 cubic meter of fine aggregate. Such a concrete mix which is 28 days old, has a compressive strength of 79.99 MPa. \n"
   ]
  },
  {
   "cell_type": "markdown",
   "id": "096653f3-f3cd-4501-a0ec-e97bcfd87c2e",
   "metadata": {},
   "source": [
    "#### Let's check how many data points we have.\n"
   ]
  },
  {
   "cell_type": "code",
   "execution_count": 5,
   "id": "407d8ca8-f344-4b12-8693-25f771c9bc49",
   "metadata": {},
   "outputs": [
    {
     "data": {
      "text/plain": [
       "(1030, 9)"
      ]
     },
     "execution_count": 5,
     "metadata": {},
     "output_type": "execute_result"
    }
   ],
   "source": [
    "concrete_data.shape"
   ]
  },
  {
   "cell_type": "markdown",
   "id": "869866b2-cdb5-44bb-8839-8f3040023e37",
   "metadata": {},
   "source": [
    "So, there are approximately 1000 samples to train our model on. Because of the few samples, we have to be careful not to overfit the training data.\n"
   ]
  },
  {
   "cell_type": "markdown",
   "id": "ed390578-bfe6-4aeb-855e-c9430b30d3f9",
   "metadata": {},
   "source": [
    "Let's check the dataset for any missing values.\n"
   ]
  },
  {
   "cell_type": "code",
   "execution_count": 6,
   "id": "a3895d7f-f484-452e-af11-2d02348e7ead",
   "metadata": {},
   "outputs": [
    {
     "data": {
      "text/html": [
       "<div>\n",
       "<style scoped>\n",
       "    .dataframe tbody tr th:only-of-type {\n",
       "        vertical-align: middle;\n",
       "    }\n",
       "\n",
       "    .dataframe tbody tr th {\n",
       "        vertical-align: top;\n",
       "    }\n",
       "\n",
       "    .dataframe thead th {\n",
       "        text-align: right;\n",
       "    }\n",
       "</style>\n",
       "<table border=\"1\" class=\"dataframe\">\n",
       "  <thead>\n",
       "    <tr style=\"text-align: right;\">\n",
       "      <th></th>\n",
       "      <th>Cement</th>\n",
       "      <th>Blast Furnace Slag</th>\n",
       "      <th>Fly Ash</th>\n",
       "      <th>Water</th>\n",
       "      <th>Superplasticizer</th>\n",
       "      <th>Coarse Aggregate</th>\n",
       "      <th>Fine Aggregate</th>\n",
       "      <th>Age</th>\n",
       "      <th>Strength</th>\n",
       "    </tr>\n",
       "  </thead>\n",
       "  <tbody>\n",
       "    <tr>\n",
       "      <th>count</th>\n",
       "      <td>1030.000000</td>\n",
       "      <td>1030.000000</td>\n",
       "      <td>1030.000000</td>\n",
       "      <td>1030.000000</td>\n",
       "      <td>1030.000000</td>\n",
       "      <td>1030.000000</td>\n",
       "      <td>1030.000000</td>\n",
       "      <td>1030.000000</td>\n",
       "      <td>1030.000000</td>\n",
       "    </tr>\n",
       "    <tr>\n",
       "      <th>mean</th>\n",
       "      <td>281.167864</td>\n",
       "      <td>73.895825</td>\n",
       "      <td>54.188350</td>\n",
       "      <td>181.567282</td>\n",
       "      <td>6.204660</td>\n",
       "      <td>972.918932</td>\n",
       "      <td>773.580485</td>\n",
       "      <td>45.662136</td>\n",
       "      <td>35.817961</td>\n",
       "    </tr>\n",
       "    <tr>\n",
       "      <th>std</th>\n",
       "      <td>104.506364</td>\n",
       "      <td>86.279342</td>\n",
       "      <td>63.997004</td>\n",
       "      <td>21.354219</td>\n",
       "      <td>5.973841</td>\n",
       "      <td>77.753954</td>\n",
       "      <td>80.175980</td>\n",
       "      <td>63.169912</td>\n",
       "      <td>16.705742</td>\n",
       "    </tr>\n",
       "    <tr>\n",
       "      <th>min</th>\n",
       "      <td>102.000000</td>\n",
       "      <td>0.000000</td>\n",
       "      <td>0.000000</td>\n",
       "      <td>121.800000</td>\n",
       "      <td>0.000000</td>\n",
       "      <td>801.000000</td>\n",
       "      <td>594.000000</td>\n",
       "      <td>1.000000</td>\n",
       "      <td>2.330000</td>\n",
       "    </tr>\n",
       "    <tr>\n",
       "      <th>25%</th>\n",
       "      <td>192.375000</td>\n",
       "      <td>0.000000</td>\n",
       "      <td>0.000000</td>\n",
       "      <td>164.900000</td>\n",
       "      <td>0.000000</td>\n",
       "      <td>932.000000</td>\n",
       "      <td>730.950000</td>\n",
       "      <td>7.000000</td>\n",
       "      <td>23.710000</td>\n",
       "    </tr>\n",
       "    <tr>\n",
       "      <th>50%</th>\n",
       "      <td>272.900000</td>\n",
       "      <td>22.000000</td>\n",
       "      <td>0.000000</td>\n",
       "      <td>185.000000</td>\n",
       "      <td>6.400000</td>\n",
       "      <td>968.000000</td>\n",
       "      <td>779.500000</td>\n",
       "      <td>28.000000</td>\n",
       "      <td>34.445000</td>\n",
       "    </tr>\n",
       "    <tr>\n",
       "      <th>75%</th>\n",
       "      <td>350.000000</td>\n",
       "      <td>142.950000</td>\n",
       "      <td>118.300000</td>\n",
       "      <td>192.000000</td>\n",
       "      <td>10.200000</td>\n",
       "      <td>1029.400000</td>\n",
       "      <td>824.000000</td>\n",
       "      <td>56.000000</td>\n",
       "      <td>46.135000</td>\n",
       "    </tr>\n",
       "    <tr>\n",
       "      <th>max</th>\n",
       "      <td>540.000000</td>\n",
       "      <td>359.400000</td>\n",
       "      <td>200.100000</td>\n",
       "      <td>247.000000</td>\n",
       "      <td>32.200000</td>\n",
       "      <td>1145.000000</td>\n",
       "      <td>992.600000</td>\n",
       "      <td>365.000000</td>\n",
       "      <td>82.600000</td>\n",
       "    </tr>\n",
       "  </tbody>\n",
       "</table>\n",
       "</div>"
      ],
      "text/plain": [
       "            Cement  Blast Furnace Slag      Fly Ash        Water  \\\n",
       "count  1030.000000         1030.000000  1030.000000  1030.000000   \n",
       "mean    281.167864           73.895825    54.188350   181.567282   \n",
       "std     104.506364           86.279342    63.997004    21.354219   \n",
       "min     102.000000            0.000000     0.000000   121.800000   \n",
       "25%     192.375000            0.000000     0.000000   164.900000   \n",
       "50%     272.900000           22.000000     0.000000   185.000000   \n",
       "75%     350.000000          142.950000   118.300000   192.000000   \n",
       "max     540.000000          359.400000   200.100000   247.000000   \n",
       "\n",
       "       Superplasticizer  Coarse Aggregate  Fine Aggregate          Age  \\\n",
       "count       1030.000000       1030.000000     1030.000000  1030.000000   \n",
       "mean           6.204660        972.918932      773.580485    45.662136   \n",
       "std            5.973841         77.753954       80.175980    63.169912   \n",
       "min            0.000000        801.000000      594.000000     1.000000   \n",
       "25%            0.000000        932.000000      730.950000     7.000000   \n",
       "50%            6.400000        968.000000      779.500000    28.000000   \n",
       "75%           10.200000       1029.400000      824.000000    56.000000   \n",
       "max           32.200000       1145.000000      992.600000   365.000000   \n",
       "\n",
       "          Strength  \n",
       "count  1030.000000  \n",
       "mean     35.817961  \n",
       "std      16.705742  \n",
       "min       2.330000  \n",
       "25%      23.710000  \n",
       "50%      34.445000  \n",
       "75%      46.135000  \n",
       "max      82.600000  "
      ]
     },
     "execution_count": 6,
     "metadata": {},
     "output_type": "execute_result"
    }
   ],
   "source": [
    "concrete_data.describe()"
   ]
  },
  {
   "cell_type": "code",
   "execution_count": 7,
   "id": "a58da867-e4c0-47a8-8602-fa4f79e87a08",
   "metadata": {},
   "outputs": [
    {
     "data": {
      "text/plain": [
       "Cement                0\n",
       "Blast Furnace Slag    0\n",
       "Fly Ash               0\n",
       "Water                 0\n",
       "Superplasticizer      0\n",
       "Coarse Aggregate      0\n",
       "Fine Aggregate        0\n",
       "Age                   0\n",
       "Strength              0\n",
       "dtype: int64"
      ]
     },
     "execution_count": 7,
     "metadata": {},
     "output_type": "execute_result"
    }
   ],
   "source": [
    "concrete_data.isnull().sum()"
   ]
  },
  {
   "cell_type": "markdown",
   "id": "28ddc0de-4d50-46f6-abdd-7bcefef73cb6",
   "metadata": {},
   "source": [
    "The data looks very clean and is ready to be used to build our model.\n"
   ]
  },
  {
   "cell_type": "markdown",
   "id": "3b687177-09f6-4a4c-b33f-941f3384f531",
   "metadata": {},
   "source": [
    "#### Split data into predictors and target\n"
   ]
  },
  {
   "cell_type": "markdown",
   "id": "b3ad8be4-a0ce-4c7d-b10a-fcfa92dc1988",
   "metadata": {},
   "source": [
    "The target variable in this problem is the concrete sample strength. Therefore, our predictors will be all the other columns.\n"
   ]
  },
  {
   "cell_type": "code",
   "execution_count": 8,
   "id": "d7e34bc0-4049-47ed-9d7c-7165c6ed0b44",
   "metadata": {},
   "outputs": [],
   "source": [
    "concrete_data_columns = concrete_data.columns\n",
    "\n",
    "predictors = concrete_data[concrete_data_columns[concrete_data_columns != 'Strength']] # all columns except Strength\n",
    "target = concrete_data['Strength'] # Strength column"
   ]
  },
  {
   "cell_type": "markdown",
   "id": "6139e9ba-dc76-4316-965b-d3c0ce51085b",
   "metadata": {},
   "source": [
    "<a id=\"item2\"></a>\n"
   ]
  },
  {
   "cell_type": "markdown",
   "id": "7173a729-3550-4995-8b98-9a07778c3049",
   "metadata": {},
   "source": [
    "Let's do a quick sanity check of the predictors and the target dataframes.\n"
   ]
  },
  {
   "cell_type": "code",
   "execution_count": 9,
   "id": "f9a88559-09f4-43d0-9845-798f805f1119",
   "metadata": {},
   "outputs": [
    {
     "data": {
      "text/html": [
       "<div>\n",
       "<style scoped>\n",
       "    .dataframe tbody tr th:only-of-type {\n",
       "        vertical-align: middle;\n",
       "    }\n",
       "\n",
       "    .dataframe tbody tr th {\n",
       "        vertical-align: top;\n",
       "    }\n",
       "\n",
       "    .dataframe thead th {\n",
       "        text-align: right;\n",
       "    }\n",
       "</style>\n",
       "<table border=\"1\" class=\"dataframe\">\n",
       "  <thead>\n",
       "    <tr style=\"text-align: right;\">\n",
       "      <th></th>\n",
       "      <th>Cement</th>\n",
       "      <th>Blast Furnace Slag</th>\n",
       "      <th>Fly Ash</th>\n",
       "      <th>Water</th>\n",
       "      <th>Superplasticizer</th>\n",
       "      <th>Coarse Aggregate</th>\n",
       "      <th>Fine Aggregate</th>\n",
       "      <th>Age</th>\n",
       "    </tr>\n",
       "  </thead>\n",
       "  <tbody>\n",
       "    <tr>\n",
       "      <th>0</th>\n",
       "      <td>540.0</td>\n",
       "      <td>0.0</td>\n",
       "      <td>0.0</td>\n",
       "      <td>162.0</td>\n",
       "      <td>2.5</td>\n",
       "      <td>1040.0</td>\n",
       "      <td>676.0</td>\n",
       "      <td>28</td>\n",
       "    </tr>\n",
       "    <tr>\n",
       "      <th>1</th>\n",
       "      <td>540.0</td>\n",
       "      <td>0.0</td>\n",
       "      <td>0.0</td>\n",
       "      <td>162.0</td>\n",
       "      <td>2.5</td>\n",
       "      <td>1055.0</td>\n",
       "      <td>676.0</td>\n",
       "      <td>28</td>\n",
       "    </tr>\n",
       "    <tr>\n",
       "      <th>2</th>\n",
       "      <td>332.5</td>\n",
       "      <td>142.5</td>\n",
       "      <td>0.0</td>\n",
       "      <td>228.0</td>\n",
       "      <td>0.0</td>\n",
       "      <td>932.0</td>\n",
       "      <td>594.0</td>\n",
       "      <td>270</td>\n",
       "    </tr>\n",
       "    <tr>\n",
       "      <th>3</th>\n",
       "      <td>332.5</td>\n",
       "      <td>142.5</td>\n",
       "      <td>0.0</td>\n",
       "      <td>228.0</td>\n",
       "      <td>0.0</td>\n",
       "      <td>932.0</td>\n",
       "      <td>594.0</td>\n",
       "      <td>365</td>\n",
       "    </tr>\n",
       "    <tr>\n",
       "      <th>4</th>\n",
       "      <td>198.6</td>\n",
       "      <td>132.4</td>\n",
       "      <td>0.0</td>\n",
       "      <td>192.0</td>\n",
       "      <td>0.0</td>\n",
       "      <td>978.4</td>\n",
       "      <td>825.5</td>\n",
       "      <td>360</td>\n",
       "    </tr>\n",
       "  </tbody>\n",
       "</table>\n",
       "</div>"
      ],
      "text/plain": [
       "   Cement  Blast Furnace Slag  Fly Ash  Water  Superplasticizer  \\\n",
       "0   540.0                 0.0      0.0  162.0               2.5   \n",
       "1   540.0                 0.0      0.0  162.0               2.5   \n",
       "2   332.5               142.5      0.0  228.0               0.0   \n",
       "3   332.5               142.5      0.0  228.0               0.0   \n",
       "4   198.6               132.4      0.0  192.0               0.0   \n",
       "\n",
       "   Coarse Aggregate  Fine Aggregate  Age  \n",
       "0            1040.0           676.0   28  \n",
       "1            1055.0           676.0   28  \n",
       "2             932.0           594.0  270  \n",
       "3             932.0           594.0  365  \n",
       "4             978.4           825.5  360  "
      ]
     },
     "execution_count": 9,
     "metadata": {},
     "output_type": "execute_result"
    }
   ],
   "source": [
    "predictors.head()"
   ]
  },
  {
   "cell_type": "code",
   "execution_count": 10,
   "id": "17fe5f47-6136-4a09-b558-f3705c9aeb1b",
   "metadata": {},
   "outputs": [
    {
     "data": {
      "text/plain": [
       "0    79.99\n",
       "1    61.89\n",
       "2    40.27\n",
       "3    41.05\n",
       "4    44.30\n",
       "Name: Strength, dtype: float64"
      ]
     },
     "execution_count": 10,
     "metadata": {},
     "output_type": "execute_result"
    }
   ],
   "source": [
    "target.head()"
   ]
  },
  {
   "cell_type": "markdown",
   "id": "a2641570-5693-4ac8-9887-582da313d466",
   "metadata": {},
   "source": [
    "Finally, the last step is to normalize the data by substracting the mean and dividing by the standard deviation.\n"
   ]
  },
  {
   "cell_type": "code",
   "execution_count": 11,
   "id": "82807e29-a97d-4f2e-8c05-552c149990db",
   "metadata": {},
   "outputs": [
    {
     "data": {
      "text/html": [
       "<div>\n",
       "<style scoped>\n",
       "    .dataframe tbody tr th:only-of-type {\n",
       "        vertical-align: middle;\n",
       "    }\n",
       "\n",
       "    .dataframe tbody tr th {\n",
       "        vertical-align: top;\n",
       "    }\n",
       "\n",
       "    .dataframe thead th {\n",
       "        text-align: right;\n",
       "    }\n",
       "</style>\n",
       "<table border=\"1\" class=\"dataframe\">\n",
       "  <thead>\n",
       "    <tr style=\"text-align: right;\">\n",
       "      <th></th>\n",
       "      <th>Cement</th>\n",
       "      <th>Blast Furnace Slag</th>\n",
       "      <th>Fly Ash</th>\n",
       "      <th>Water</th>\n",
       "      <th>Superplasticizer</th>\n",
       "      <th>Coarse Aggregate</th>\n",
       "      <th>Fine Aggregate</th>\n",
       "      <th>Age</th>\n",
       "    </tr>\n",
       "  </thead>\n",
       "  <tbody>\n",
       "    <tr>\n",
       "      <th>0</th>\n",
       "      <td>2.476712</td>\n",
       "      <td>-0.856472</td>\n",
       "      <td>-0.846733</td>\n",
       "      <td>-0.916319</td>\n",
       "      <td>-0.620147</td>\n",
       "      <td>0.862735</td>\n",
       "      <td>-1.217079</td>\n",
       "      <td>-0.279597</td>\n",
       "    </tr>\n",
       "    <tr>\n",
       "      <th>1</th>\n",
       "      <td>2.476712</td>\n",
       "      <td>-0.856472</td>\n",
       "      <td>-0.846733</td>\n",
       "      <td>-0.916319</td>\n",
       "      <td>-0.620147</td>\n",
       "      <td>1.055651</td>\n",
       "      <td>-1.217079</td>\n",
       "      <td>-0.279597</td>\n",
       "    </tr>\n",
       "    <tr>\n",
       "      <th>2</th>\n",
       "      <td>0.491187</td>\n",
       "      <td>0.795140</td>\n",
       "      <td>-0.846733</td>\n",
       "      <td>2.174405</td>\n",
       "      <td>-1.038638</td>\n",
       "      <td>-0.526262</td>\n",
       "      <td>-2.239829</td>\n",
       "      <td>3.551340</td>\n",
       "    </tr>\n",
       "    <tr>\n",
       "      <th>3</th>\n",
       "      <td>0.491187</td>\n",
       "      <td>0.795140</td>\n",
       "      <td>-0.846733</td>\n",
       "      <td>2.174405</td>\n",
       "      <td>-1.038638</td>\n",
       "      <td>-0.526262</td>\n",
       "      <td>-2.239829</td>\n",
       "      <td>5.055221</td>\n",
       "    </tr>\n",
       "    <tr>\n",
       "      <th>4</th>\n",
       "      <td>-0.790075</td>\n",
       "      <td>0.678079</td>\n",
       "      <td>-0.846733</td>\n",
       "      <td>0.488555</td>\n",
       "      <td>-1.038638</td>\n",
       "      <td>0.070492</td>\n",
       "      <td>0.647569</td>\n",
       "      <td>4.976069</td>\n",
       "    </tr>\n",
       "  </tbody>\n",
       "</table>\n",
       "</div>"
      ],
      "text/plain": [
       "     Cement  Blast Furnace Slag   Fly Ash     Water  Superplasticizer  \\\n",
       "0  2.476712           -0.856472 -0.846733 -0.916319         -0.620147   \n",
       "1  2.476712           -0.856472 -0.846733 -0.916319         -0.620147   \n",
       "2  0.491187            0.795140 -0.846733  2.174405         -1.038638   \n",
       "3  0.491187            0.795140 -0.846733  2.174405         -1.038638   \n",
       "4 -0.790075            0.678079 -0.846733  0.488555         -1.038638   \n",
       "\n",
       "   Coarse Aggregate  Fine Aggregate       Age  \n",
       "0          0.862735       -1.217079 -0.279597  \n",
       "1          1.055651       -1.217079 -0.279597  \n",
       "2         -0.526262       -2.239829  3.551340  \n",
       "3         -0.526262       -2.239829  5.055221  \n",
       "4          0.070492        0.647569  4.976069  "
      ]
     },
     "execution_count": 11,
     "metadata": {},
     "output_type": "execute_result"
    }
   ],
   "source": [
    "predictors_norm = (predictors - predictors.mean()) / predictors.std()\n",
    "predictors_norm.head()"
   ]
  },
  {
   "cell_type": "markdown",
   "id": "02b08228-7a39-4a4c-bae2-87d0c334a3f6",
   "metadata": {},
   "source": [
    "Let's save the number of predictors to *n_cols* since we will need this number when building our network.\n"
   ]
  },
  {
   "cell_type": "code",
   "execution_count": 12,
   "id": "6d27243a-845f-46e5-beb6-6dc13d5ef396",
   "metadata": {},
   "outputs": [],
   "source": [
    "n_cols = predictors_norm.shape[1] # number of predictors"
   ]
  },
  {
   "cell_type": "markdown",
   "id": "bb60e339-2b2b-4370-8919-bfb5f5bad767",
   "metadata": {},
   "source": [
    "<a id=\"item1\"></a>\n"
   ]
  },
  {
   "cell_type": "markdown",
   "id": "23b91b74-1cac-4746-9a87-b7cf6e39126e",
   "metadata": {},
   "source": [
    "<a id='item32'></a>\n"
   ]
  },
  {
   "cell_type": "markdown",
   "id": "c9929027-4615-476f-a668-a0f547ae1006",
   "metadata": {},
   "source": [
    "## Import Keras\n"
   ]
  },
  {
   "cell_type": "markdown",
   "id": "9fb19682-655b-40e8-afd4-d67cf643c321",
   "metadata": {},
   "source": [
    "#### Let's go ahead and import the Keras library\n"
   ]
  },
  {
   "cell_type": "code",
   "execution_count": 13,
   "id": "b5c62820-c6c3-44fc-ae0c-28684be4e40b",
   "metadata": {},
   "outputs": [],
   "source": [
    "import keras"
   ]
  },
  {
   "cell_type": "markdown",
   "id": "982ee5d4-c918-44cf-8ac4-bf68c080a979",
   "metadata": {},
   "source": [
    "As you can see, the TensorFlow backend was used to install the Keras library.\n"
   ]
  },
  {
   "cell_type": "markdown",
   "id": "ff242bc9-8e7a-44ef-85da-85a742dbfc2d",
   "metadata": {},
   "source": [
    "Let's import the rest of the packages from the Keras library that we will need to build our regressoin model.\n"
   ]
  },
  {
   "cell_type": "code",
   "execution_count": 14,
   "id": "40129e19-105f-4a6e-a560-496b68f7cbb7",
   "metadata": {},
   "outputs": [],
   "source": [
    "from keras.models import Sequential\n",
    "from keras.layers import Dense"
   ]
  },
  {
   "cell_type": "markdown",
   "id": "cce1d155-0840-49d4-b1b9-f7e44f23c045",
   "metadata": {},
   "source": [
    "<a id='item33'></a>\n"
   ]
  },
  {
   "cell_type": "markdown",
   "id": "a4639365-bfab-41c6-aa8d-e5b6fd205f09",
   "metadata": {},
   "source": [
    "## Build a Neural Network\n"
   ]
  },
  {
   "cell_type": "markdown",
   "id": "6740b923-eaae-4576-945e-2da8559fd447",
   "metadata": {},
   "source": [
    "Let's define a function that defines our regression model for us so that we can conveniently call it to create our model.\n"
   ]
  },
  {
   "cell_type": "code",
   "execution_count": 15,
   "id": "435477bf-6e18-49f1-aa37-bc8f3a3c4d9e",
   "metadata": {},
   "outputs": [],
   "source": [
    "# define regression model\n",
    "def regression_model():\n",
    "    # create model\n",
    "    model = Sequential()\n",
    "    model.add(Dense(50, activation='relu', input_shape=(n_cols,)))\n",
    "    model.add(Dense(50, activation='relu'))\n",
    "    model.add(Dense(1))\n",
    "    \n",
    "    # compile model\n",
    "    model.compile(optimizer='adam', loss='mean_squared_error')\n",
    "    return model"
   ]
  },
  {
   "cell_type": "markdown",
   "id": "90c19b9e-1000-4d77-bdaf-fa5b3374c754",
   "metadata": {},
   "source": [
    "The above function create a model that has two hidden layers, each of 50 hidden units.\n"
   ]
  },
  {
   "cell_type": "markdown",
   "id": "a0bc2e0e-60be-452d-a47b-f017ddc2e27e",
   "metadata": {},
   "source": [
    "<a id=\"item4\"></a>\n"
   ]
  },
  {
   "cell_type": "markdown",
   "id": "8b1440a2-40fd-492e-bd3a-768665137325",
   "metadata": {},
   "source": [
    "<a id='item34'></a>\n"
   ]
  },
  {
   "cell_type": "markdown",
   "id": "6d818d59-a527-45d4-ae4b-3426b21475ad",
   "metadata": {},
   "source": [
    "## Train and Test the Network\n"
   ]
  },
  {
   "cell_type": "markdown",
   "id": "6877952a-9cff-4e91-8a8a-eaf75e4bf198",
   "metadata": {},
   "source": [
    "Let's call the function now to create our model.\n"
   ]
  },
  {
   "cell_type": "code",
   "execution_count": 16,
   "id": "02b2bfdf-c12c-4148-ab34-f5f83f950568",
   "metadata": {},
   "outputs": [],
   "source": [
    "# build the model\n",
    "model = regression_model()"
   ]
  },
  {
   "cell_type": "markdown",
   "id": "08b8f32c-e879-4cc7-9504-82996b9ab84f",
   "metadata": {},
   "source": [
    "Next, we will train and test the model at the same time using the *fit* method. We will leave out 30% of the data for validation and we will train the model for 100 epochs.\n"
   ]
  },
  {
   "cell_type": "code",
   "execution_count": 17,
   "id": "99d48a19-e989-4759-902e-036b49f840d4",
   "metadata": {},
   "outputs": [
    {
     "name": "stdout",
     "output_type": "stream",
     "text": [
      "Epoch 1/100\n",
      "23/23 - 1s - loss: 1647.8011 - val_loss: 1130.0952 - 664ms/epoch - 29ms/step\n",
      "Epoch 2/100\n",
      "23/23 - 0s - loss: 1504.9033 - val_loss: 983.7581 - 53ms/epoch - 2ms/step\n",
      "Epoch 3/100\n",
      "23/23 - 0s - loss: 1264.9005 - val_loss: 762.3156 - 66ms/epoch - 3ms/step\n",
      "Epoch 4/100\n",
      "23/23 - 0s - loss: 908.4196 - val_loss: 492.1479 - 52ms/epoch - 2ms/step\n",
      "Epoch 5/100\n",
      "23/23 - 0s - loss: 530.7608 - val_loss: 272.4103 - 54ms/epoch - 2ms/step\n",
      "Epoch 6/100\n",
      "23/23 - 0s - loss: 296.1822 - val_loss: 186.4172 - 66ms/epoch - 3ms/step\n",
      "Epoch 7/100\n",
      "23/23 - 0s - loss: 236.8516 - val_loss: 172.6720 - 55ms/epoch - 2ms/step\n",
      "Epoch 8/100\n",
      "23/23 - 0s - loss: 221.5004 - val_loss: 168.9212 - 50ms/epoch - 2ms/step\n",
      "Epoch 9/100\n",
      "23/23 - 0s - loss: 210.7216 - val_loss: 166.9194 - 57ms/epoch - 2ms/step\n",
      "Epoch 10/100\n",
      "23/23 - 0s - loss: 201.0903 - val_loss: 165.6825 - 64ms/epoch - 3ms/step\n",
      "Epoch 11/100\n",
      "23/23 - 0s - loss: 193.6196 - val_loss: 164.1588 - 51ms/epoch - 2ms/step\n",
      "Epoch 12/100\n",
      "23/23 - 0s - loss: 188.4177 - val_loss: 161.1953 - 60ms/epoch - 3ms/step\n",
      "Epoch 13/100\n",
      "23/23 - 0s - loss: 182.5489 - val_loss: 160.2187 - 82ms/epoch - 4ms/step\n",
      "Epoch 14/100\n",
      "23/23 - 0s - loss: 177.6460 - val_loss: 159.8808 - 53ms/epoch - 2ms/step\n",
      "Epoch 15/100\n",
      "23/23 - 0s - loss: 173.1188 - val_loss: 158.3619 - 50ms/epoch - 2ms/step\n",
      "Epoch 16/100\n",
      "23/23 - 0s - loss: 169.0108 - val_loss: 156.4823 - 37ms/epoch - 2ms/step\n",
      "Epoch 17/100\n",
      "23/23 - 0s - loss: 165.6158 - val_loss: 156.0658 - 63ms/epoch - 3ms/step\n",
      "Epoch 18/100\n",
      "23/23 - 0s - loss: 162.7920 - val_loss: 152.9155 - 52ms/epoch - 2ms/step\n",
      "Epoch 19/100\n",
      "23/23 - 0s - loss: 160.4532 - val_loss: 154.2767 - 48ms/epoch - 2ms/step\n",
      "Epoch 20/100\n",
      "23/23 - 0s - loss: 156.9544 - val_loss: 152.0323 - 32ms/epoch - 1ms/step\n",
      "Epoch 21/100\n",
      "23/23 - 0s - loss: 154.3031 - val_loss: 153.2906 - 49ms/epoch - 2ms/step\n",
      "Epoch 22/100\n",
      "23/23 - 0s - loss: 152.3524 - val_loss: 152.0602 - 51ms/epoch - 2ms/step\n",
      "Epoch 23/100\n",
      "23/23 - 0s - loss: 149.9522 - val_loss: 151.5678 - 49ms/epoch - 2ms/step\n",
      "Epoch 24/100\n",
      "23/23 - 0s - loss: 148.3830 - val_loss: 149.8735 - 48ms/epoch - 2ms/step\n",
      "Epoch 25/100\n",
      "23/23 - 0s - loss: 146.2393 - val_loss: 150.4382 - 36ms/epoch - 2ms/step\n",
      "Epoch 26/100\n",
      "23/23 - 0s - loss: 145.8760 - val_loss: 149.6324 - 37ms/epoch - 2ms/step\n",
      "Epoch 27/100\n",
      "23/23 - 0s - loss: 143.1807 - val_loss: 148.4578 - 50ms/epoch - 2ms/step\n",
      "Epoch 28/100\n",
      "23/23 - 0s - loss: 141.8040 - val_loss: 149.3881 - 50ms/epoch - 2ms/step\n",
      "Epoch 29/100\n",
      "23/23 - 0s - loss: 140.5583 - val_loss: 149.8720 - 47ms/epoch - 2ms/step\n",
      "Epoch 30/100\n",
      "23/23 - 0s - loss: 138.8559 - val_loss: 150.9851 - 56ms/epoch - 2ms/step\n",
      "Epoch 31/100\n",
      "23/23 - 0s - loss: 137.4991 - val_loss: 150.2006 - 47ms/epoch - 2ms/step\n",
      "Epoch 32/100\n",
      "23/23 - 0s - loss: 136.5830 - val_loss: 148.5904 - 46ms/epoch - 2ms/step\n",
      "Epoch 33/100\n",
      "23/23 - 0s - loss: 135.8681 - val_loss: 149.9682 - 46ms/epoch - 2ms/step\n",
      "Epoch 34/100\n",
      "23/23 - 0s - loss: 134.9212 - val_loss: 151.9408 - 42ms/epoch - 2ms/step\n",
      "Epoch 35/100\n",
      "23/23 - 0s - loss: 133.4307 - val_loss: 150.6890 - 49ms/epoch - 2ms/step\n",
      "Epoch 36/100\n",
      "23/23 - 0s - loss: 132.3761 - val_loss: 152.7642 - 47ms/epoch - 2ms/step\n",
      "Epoch 37/100\n",
      "23/23 - 0s - loss: 131.4964 - val_loss: 151.6078 - 50ms/epoch - 2ms/step\n",
      "Epoch 38/100\n",
      "23/23 - 0s - loss: 130.7771 - val_loss: 152.5428 - 35ms/epoch - 2ms/step\n",
      "Epoch 39/100\n",
      "23/23 - 0s - loss: 129.4693 - val_loss: 150.3626 - 51ms/epoch - 2ms/step\n",
      "Epoch 40/100\n",
      "23/23 - 0s - loss: 129.2988 - val_loss: 153.4113 - 50ms/epoch - 2ms/step\n",
      "Epoch 41/100\n",
      "23/23 - 0s - loss: 127.7094 - val_loss: 152.1156 - 67ms/epoch - 3ms/step\n",
      "Epoch 42/100\n",
      "23/23 - 0s - loss: 126.7848 - val_loss: 152.7382 - 54ms/epoch - 2ms/step\n",
      "Epoch 43/100\n",
      "23/23 - 0s - loss: 126.0308 - val_loss: 151.1652 - 47ms/epoch - 2ms/step\n",
      "Epoch 44/100\n",
      "23/23 - 0s - loss: 125.0000 - val_loss: 157.2231 - 47ms/epoch - 2ms/step\n",
      "Epoch 45/100\n",
      "23/23 - 0s - loss: 124.7888 - val_loss: 152.8379 - 47ms/epoch - 2ms/step\n",
      "Epoch 46/100\n",
      "23/23 - 0s - loss: 123.5549 - val_loss: 153.5629 - 56ms/epoch - 2ms/step\n",
      "Epoch 47/100\n",
      "23/23 - 0s - loss: 122.4762 - val_loss: 153.4033 - 50ms/epoch - 2ms/step\n",
      "Epoch 48/100\n",
      "23/23 - 0s - loss: 121.5980 - val_loss: 153.7182 - 44ms/epoch - 2ms/step\n",
      "Epoch 49/100\n",
      "23/23 - 0s - loss: 121.2771 - val_loss: 155.7271 - 48ms/epoch - 2ms/step\n",
      "Epoch 50/100\n",
      "23/23 - 0s - loss: 120.6991 - val_loss: 151.9478 - 50ms/epoch - 2ms/step\n",
      "Epoch 51/100\n",
      "23/23 - 0s - loss: 118.7324 - val_loss: 158.5573 - 64ms/epoch - 3ms/step\n",
      "Epoch 52/100\n",
      "23/23 - 0s - loss: 117.8801 - val_loss: 155.0706 - 61ms/epoch - 3ms/step\n",
      "Epoch 53/100\n",
      "23/23 - 0s - loss: 116.7231 - val_loss: 153.2657 - 41ms/epoch - 2ms/step\n",
      "Epoch 54/100\n",
      "23/23 - 0s - loss: 116.5015 - val_loss: 153.3707 - 49ms/epoch - 2ms/step\n",
      "Epoch 55/100\n",
      "23/23 - 0s - loss: 114.7317 - val_loss: 155.5723 - 48ms/epoch - 2ms/step\n",
      "Epoch 56/100\n",
      "23/23 - 0s - loss: 113.5563 - val_loss: 151.4355 - 50ms/epoch - 2ms/step\n",
      "Epoch 57/100\n",
      "23/23 - 0s - loss: 112.1910 - val_loss: 155.2579 - 35ms/epoch - 2ms/step\n",
      "Epoch 58/100\n",
      "23/23 - 0s - loss: 110.6085 - val_loss: 155.0455 - 49ms/epoch - 2ms/step\n",
      "Epoch 59/100\n",
      "23/23 - 0s - loss: 109.2299 - val_loss: 157.1165 - 50ms/epoch - 2ms/step\n",
      "Epoch 60/100\n",
      "23/23 - 0s - loss: 107.4957 - val_loss: 155.6869 - 48ms/epoch - 2ms/step\n",
      "Epoch 61/100\n",
      "23/23 - 0s - loss: 105.8071 - val_loss: 153.0192 - 46ms/epoch - 2ms/step\n",
      "Epoch 62/100\n",
      "23/23 - 0s - loss: 103.8926 - val_loss: 152.7328 - 45ms/epoch - 2ms/step\n",
      "Epoch 63/100\n",
      "23/23 - 0s - loss: 102.3829 - val_loss: 152.2678 - 48ms/epoch - 2ms/step\n",
      "Epoch 64/100\n",
      "23/23 - 0s - loss: 100.1518 - val_loss: 155.2141 - 43ms/epoch - 2ms/step\n",
      "Epoch 65/100\n",
      "23/23 - 0s - loss: 97.8025 - val_loss: 152.8022 - 50ms/epoch - 2ms/step\n",
      "Epoch 66/100\n",
      "23/23 - 0s - loss: 95.4101 - val_loss: 149.5039 - 47ms/epoch - 2ms/step\n",
      "Epoch 67/100\n",
      "23/23 - 0s - loss: 93.3516 - val_loss: 152.8155 - 37ms/epoch - 2ms/step\n",
      "Epoch 68/100\n",
      "23/23 - 0s - loss: 89.8063 - val_loss: 145.5876 - 50ms/epoch - 2ms/step\n",
      "Epoch 69/100\n",
      "23/23 - 0s - loss: 87.1820 - val_loss: 153.4234 - 47ms/epoch - 2ms/step\n",
      "Epoch 70/100\n",
      "23/23 - 0s - loss: 83.8402 - val_loss: 145.1474 - 55ms/epoch - 2ms/step\n",
      "Epoch 71/100\n",
      "23/23 - 0s - loss: 80.4159 - val_loss: 146.8959 - 51ms/epoch - 2ms/step\n",
      "Epoch 72/100\n",
      "23/23 - 0s - loss: 77.7382 - val_loss: 142.8543 - 45ms/epoch - 2ms/step\n",
      "Epoch 73/100\n",
      "23/23 - 0s - loss: 74.8379 - val_loss: 142.2084 - 36ms/epoch - 2ms/step\n",
      "Epoch 74/100\n",
      "23/23 - 0s - loss: 72.4986 - val_loss: 142.6528 - 60ms/epoch - 3ms/step\n",
      "Epoch 75/100\n",
      "23/23 - 0s - loss: 68.9690 - val_loss: 142.7552 - 50ms/epoch - 2ms/step\n",
      "Epoch 76/100\n",
      "23/23 - 0s - loss: 67.2075 - val_loss: 147.7877 - 50ms/epoch - 2ms/step\n",
      "Epoch 77/100\n",
      "23/23 - 0s - loss: 64.0320 - val_loss: 140.7806 - 42ms/epoch - 2ms/step\n",
      "Epoch 78/100\n",
      "23/23 - 0s - loss: 61.7642 - val_loss: 141.5428 - 44ms/epoch - 2ms/step\n",
      "Epoch 79/100\n",
      "23/23 - 0s - loss: 59.2266 - val_loss: 138.6826 - 50ms/epoch - 2ms/step\n",
      "Epoch 80/100\n",
      "23/23 - 0s - loss: 57.4577 - val_loss: 143.2925 - 48ms/epoch - 2ms/step\n",
      "Epoch 81/100\n",
      "23/23 - 0s - loss: 55.1192 - val_loss: 138.4686 - 35ms/epoch - 2ms/step\n",
      "Epoch 82/100\n",
      "23/23 - 0s - loss: 53.4874 - val_loss: 141.8178 - 36ms/epoch - 2ms/step\n",
      "Epoch 83/100\n",
      "23/23 - 0s - loss: 51.7057 - val_loss: 139.5449 - 53ms/epoch - 2ms/step\n",
      "Epoch 84/100\n",
      "23/23 - 0s - loss: 50.5283 - val_loss: 152.0549 - 48ms/epoch - 2ms/step\n",
      "Epoch 85/100\n",
      "23/23 - 0s - loss: 49.1015 - val_loss: 149.7523 - 49ms/epoch - 2ms/step\n",
      "Epoch 86/100\n",
      "23/23 - 0s - loss: 48.0120 - val_loss: 145.7896 - 51ms/epoch - 2ms/step\n",
      "Epoch 87/100\n",
      "23/23 - 0s - loss: 47.0491 - val_loss: 143.1587 - 49ms/epoch - 2ms/step\n",
      "Epoch 88/100\n",
      "23/23 - 0s - loss: 46.4302 - val_loss: 142.9387 - 58ms/epoch - 3ms/step\n",
      "Epoch 89/100\n",
      "23/23 - 0s - loss: 44.9598 - val_loss: 160.9909 - 55ms/epoch - 2ms/step\n",
      "Epoch 90/100\n",
      "23/23 - 0s - loss: 44.1467 - val_loss: 165.4250 - 67ms/epoch - 3ms/step\n",
      "Epoch 91/100\n",
      "23/23 - 0s - loss: 43.3869 - val_loss: 161.1096 - 61ms/epoch - 3ms/step\n",
      "Epoch 92/100\n",
      "23/23 - 0s - loss: 42.9932 - val_loss: 160.6686 - 41ms/epoch - 2ms/step\n",
      "Epoch 93/100\n",
      "23/23 - 0s - loss: 42.0218 - val_loss: 160.4790 - 49ms/epoch - 2ms/step\n",
      "Epoch 94/100\n",
      "23/23 - 0s - loss: 41.2768 - val_loss: 160.3392 - 51ms/epoch - 2ms/step\n",
      "Epoch 95/100\n",
      "23/23 - 0s - loss: 41.7552 - val_loss: 170.6951 - 48ms/epoch - 2ms/step\n",
      "Epoch 96/100\n",
      "23/23 - 0s - loss: 40.1902 - val_loss: 172.3045 - 47ms/epoch - 2ms/step\n",
      "Epoch 97/100\n",
      "23/23 - 0s - loss: 39.4113 - val_loss: 165.8511 - 36ms/epoch - 2ms/step\n",
      "Epoch 98/100\n",
      "23/23 - 0s - loss: 38.7746 - val_loss: 164.3697 - 56ms/epoch - 2ms/step\n",
      "Epoch 99/100\n",
      "23/23 - 0s - loss: 38.6889 - val_loss: 164.5165 - 48ms/epoch - 2ms/step\n",
      "Epoch 100/100\n",
      "23/23 - 0s - loss: 38.4719 - val_loss: 170.2109 - 46ms/epoch - 2ms/step\n"
     ]
    },
    {
     "data": {
      "text/plain": [
       "<keras.src.callbacks.History at 0x229983fb850>"
      ]
     },
     "execution_count": 17,
     "metadata": {},
     "output_type": "execute_result"
    }
   ],
   "source": [
    "# fit the model\n",
    "model.fit(predictors_norm, target, validation_split=0.3, epochs=100, verbose=2)"
   ]
  }
 ],
 "metadata": {
  "kernelspec": {
   "display_name": "base",
   "language": "python",
   "name": "python3"
  },
  "language_info": {
   "codemirror_mode": {
    "name": "ipython",
    "version": 3
   },
   "file_extension": ".py",
   "mimetype": "text/x-python",
   "name": "python",
   "nbconvert_exporter": "python",
   "pygments_lexer": "ipython3",
   "version": "3.11.4"
  },
  "prev_pub_hash": "83687881d337faa1ef19930a5252431ac8ebd74923546c921f47fecec1b0d333"
 },
 "nbformat": 4,
 "nbformat_minor": 4
}
