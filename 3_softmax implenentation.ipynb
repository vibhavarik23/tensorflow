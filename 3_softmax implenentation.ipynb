{
 "cells": [
  {
   "cell_type": "code",
   "execution_count": 2,
   "metadata": {},
   "outputs": [],
   "source": [
    "import tensorflow as tf\n",
    "import numpy as np\n",
    "from tensorflow import keras"
   ]
  },
  {
   "cell_type": "code",
   "execution_count": 8,
   "metadata": {},
   "outputs": [
    {
     "name": "stdout",
     "output_type": "stream",
     "text": [
      "Inputs: [[1. 2. 3. 4.]]\n",
      "Outputs: [[0.0320586  0.08714432 0.23688282 0.64391426]]\n",
      "Sum: 1.0\n",
      "Prediction: 3\n"
     ]
    }
   ],
   "source": [
    "inputs = np.array([[1,2,3,4]],dtype=float)\n",
    "inputs = tf.convert_to_tensor(inputs)\n",
    "print(f\"Inputs: {inputs}\")\n",
    "outputs = tf.keras.activations.softmax(inputs)\n",
    "print(f\"Outputs: {outputs.numpy()}\")\n",
    "sum=tf.reduce_sum(outputs)\n",
    "print(f\"Sum: {sum}\")\n",
    "prediction = np.argmax(outputs)\n",
    "print(f\"Prediction: {prediction}\")"
   ]
  },
  {
   "cell_type": "code",
   "execution_count": null,
   "metadata": {},
   "outputs": [],
   "source": []
  }
 ],
 "metadata": {
  "kernelspec": {
   "display_name": "base",
   "language": "python",
   "name": "python3"
  },
  "language_info": {
   "codemirror_mode": {
    "name": "ipython",
    "version": 3
   },
   "file_extension": ".py",
   "mimetype": "text/x-python",
   "name": "python",
   "nbconvert_exporter": "python",
   "pygments_lexer": "ipython3",
   "version": "3.11.4"
  }
 },
 "nbformat": 4,
 "nbformat_minor": 2
}
