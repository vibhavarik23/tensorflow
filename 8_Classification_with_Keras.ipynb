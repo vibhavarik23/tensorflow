{
 "cells": [
  {
   "cell_type": "markdown",
   "id": "5c9ec1fa-3bcf-44bc-965d-b0a3e65bfefc",
   "metadata": {},
   "source": [
    "## Introduction\n"
   ]
  },
  {
   "cell_type": "markdown",
   "id": "0a75eb65-fed6-4769-bf2a-8dafae0acdf9",
   "metadata": {},
   "source": [
    "We will use the popular MNIST dataset, a dataset of images, for a change. \n",
    "\n",
    "The <strong>MNIST database</strong>, short for Modified National Institute of Standards and Technology database, is a large database of handwritten digits that is commonly used for training various image processing systems. The database is also widely used for training and testing in the field of machine learning.\n",
    "    \n",
    "The MNIST database contains 60,000 training images and 10,000 testing images of digits written by high school students and employees of the United States Census Bureau."
   ]
  },
  {
   "cell_type": "markdown",
   "id": "ffd6d98b-7add-438c-a2dc-53543d386794",
   "metadata": {},
   "source": [
    "<h2>Classification Models with Keras</h2>\n",
    "\n",
    "<h3>Objective for this Notebook<h3>    \n",
    "<h5> 1. Use of MNIST database for training various image processing systems</h5>\n",
    "<h5> 2. Build a Neural Network </h5>\n",
    "<h5> 3. Train and Test the Network. </h5>"
   ]
  },
  {
   "cell_type": "markdown",
   "id": "070374e1-ea05-4c71-9c09-70afcee8e002",
   "metadata": {},
   "source": [
    "<a id='item312'></a>\n"
   ]
  },
  {
   "cell_type": "markdown",
   "id": "04cb5309-8b73-4ee3-bc33-6f98e6c6d5ea",
   "metadata": {},
   "source": [
    "## Import Keras and Packages\n"
   ]
  },
  {
   "cell_type": "markdown",
   "id": "b2807a39-4997-483b-8658-fa0b51064053",
   "metadata": {},
   "source": [
    "Let's start by importing Keras and some of its modules.\n"
   ]
  },
  {
   "cell_type": "code",
   "execution_count": 1,
   "id": "851d3009-7c45-4a08-99c6-4dce1b2a7a02",
   "metadata": {},
   "outputs": [],
   "source": [
    "#!pip install numpy==1.21.4\n",
    "#!pip install pandas==1.3.4\n",
    "#!pip install keras==2.1.6\n",
    "#!pip install matplotlib==3.5.0"
   ]
  },
  {
   "cell_type": "code",
   "execution_count": 2,
   "id": "83b22757-26ef-4bd1-a2c6-6144f6c843a7",
   "metadata": {},
   "outputs": [],
   "source": [
    "import keras\n",
    "\n",
    "from keras.models import Sequential\n",
    "from keras.layers import Dense\n",
    "from keras.utils import to_categorical"
   ]
  },
  {
   "cell_type": "markdown",
   "id": "7342f733-ccb1-4c6a-a2e2-7ae92242281a",
   "metadata": {},
   "source": [
    "Since we are dealing with images, let's also import the Matplotlib scripting layer in order to view the images.\n"
   ]
  },
  {
   "cell_type": "code",
   "execution_count": 3,
   "id": "a4d8f324-7a70-4f0d-85f1-fe396b6f8cc4",
   "metadata": {},
   "outputs": [],
   "source": [
    "import matplotlib.pyplot as plt"
   ]
  },
  {
   "cell_type": "markdown",
   "id": "3a0c2cad-6769-443b-b73a-dc5d0bb5b98e",
   "metadata": {},
   "source": [
    "The Keras library conveniently includes the MNIST dataset as part of its API. \n",
    "\n",
    "So, let's load the MNIST dataset from the Keras library. The dataset is readily divided into a training set and a test set."
   ]
  },
  {
   "cell_type": "code",
   "execution_count": 4,
   "id": "f7033ea0-c156-4a14-accf-180e26b6ea42",
   "metadata": {},
   "outputs": [],
   "source": [
    "# import the data\n",
    "from keras.datasets import mnist\n",
    "\n",
    "# read the data\n",
    "(X_train, y_train), (X_test, y_test) = mnist.load_data()"
   ]
  },
  {
   "cell_type": "markdown",
   "id": "eb6294b9-bfce-4067-a9e3-90c45de142a7",
   "metadata": {},
   "source": [
    "Let's confirm the number of images in each set. According to the dataset's documentation, we should have 60000 images in X_train and 10000 images in the X_test.\n"
   ]
  },
  {
   "cell_type": "code",
   "execution_count": 5,
   "id": "73e7608c-3f34-4651-b8c5-51654400f8a1",
   "metadata": {},
   "outputs": [
    {
     "data": {
      "text/plain": [
       "(60000, 28, 28)"
      ]
     },
     "execution_count": 5,
     "metadata": {},
     "output_type": "execute_result"
    }
   ],
   "source": [
    "X_train.shape"
   ]
  },
  {
   "cell_type": "markdown",
   "id": "c8583d62-acec-4c71-b339-1e6e23bb7abc",
   "metadata": {},
   "source": [
    "The first number in the output tuple is the number of images, and the other two numbers are the size of the images in datset. So, each image is 28 pixels by 28 pixels.\n"
   ]
  },
  {
   "cell_type": "markdown",
   "id": "b5b7c56a-4f99-476e-be99-0646b13d4d02",
   "metadata": {},
   "source": [
    "Let's visualize the first image in the training set using Matplotlib's scripting layer.\n"
   ]
  },
  {
   "cell_type": "code",
   "execution_count": 6,
   "id": "1c672f04-f79d-4354-835d-40cce8035e53",
   "metadata": {},
   "outputs": [
    {
     "data": {
      "text/plain": [
       "<matplotlib.image.AxesImage at 0x21e6b04b3d0>"
      ]
     },
     "execution_count": 6,
     "metadata": {},
     "output_type": "execute_result"
    },
    {
     "data": {
      "image/png": "[encoded data removed]",
      "text/plain": [
       "<Figure size 640x480 with 1 Axes>"
      ]
     },
     "metadata": {},
     "output_type": "display_data"
    }
   ],
   "source": [
    "plt.imshow(X_train[0])"
   ]
  },
  {
   "cell_type": "markdown",
   "id": "40cf8f85-4826-48c9-af77-e5e35d8b4bd0",
   "metadata": {},
   "source": [
    "With conventional neural networks, we cannot feed in the image as input as is. So we need to flatten the images into one-dimensional vectors, each of size 1 x (28 x 28) = 1 x 784.\n"
   ]
  },
  {
   "cell_type": "code",
   "execution_count": 7,
   "id": "4b400ce0-07a1-4fd8-ae7c-7fd8d8bb701f",
   "metadata": {},
   "outputs": [],
   "source": [
    "# flatten images into one-dimensional vector\n",
    "\n",
    "num_pixels = X_train.shape[1] * X_train.shape[2] # find size of one-dimensional vector\n",
    "\n",
    "X_train = X_train.reshape(X_train.shape[0], num_pixels).astype('float32') # flatten training images\n",
    "X_test = X_test.reshape(X_test.shape[0], num_pixels).astype('float32') # flatten test images"
   ]
  },
  {
   "cell_type": "markdown",
   "id": "41d73cc8-9523-4df9-b2f0-4161172cd85b",
   "metadata": {},
   "source": [
    "Since pixel values can range from 0 to 255, let's normalize the vectors to be between 0 and 1.\n"
   ]
  },
  {
   "cell_type": "code",
   "execution_count": 8,
   "id": "423fbf2a-6f56-4d14-8d78-5c794ef0d977",
   "metadata": {},
   "outputs": [],
   "source": [
    "# normalize inputs from 0-255 to 0-1\n",
    "X_train = X_train / 255\n",
    "X_test = X_test / 255"
   ]
  },
  {
   "cell_type": "markdown",
   "id": "6578c204-30db-402a-af8d-3a25b181e9fb",
   "metadata": {},
   "source": [
    "Finally, before we start building our model, remember that for classification we need to divide our target variable into categories. We use the to_categorical function from the Keras Utilities package.\n"
   ]
  },
  {
   "cell_type": "code",
   "execution_count": 9,
   "id": "d2cf1708-ab81-4055-ba61-796ea2305f71",
   "metadata": {},
   "outputs": [
    {
     "name": "stdout",
     "output_type": "stream",
     "text": [
      "10\n"
     ]
    }
   ],
   "source": [
    "# one hot encode outputs\n",
    "y_train = to_categorical(y_train)\n",
    "y_test = to_categorical(y_test)\n",
    "\n",
    "num_classes = y_test.shape[1]\n",
    "print(num_classes)"
   ]
  },
  {
   "cell_type": "markdown",
   "id": "829c6f73-0d93-4689-9f2f-b1c219fd7a27",
   "metadata": {},
   "source": [
    "<a id='item322'></a>\n"
   ]
  },
  {
   "cell_type": "markdown",
   "id": "c45ab845-8ed9-45c1-ab98-f0b459336211",
   "metadata": {},
   "source": [
    "## Build a Neural Network\n"
   ]
  },
  {
   "cell_type": "code",
   "execution_count": 10,
   "id": "7fda3388-0933-4cb8-876b-b390b8a3fcd5",
   "metadata": {},
   "outputs": [],
   "source": [
    "# define classification model\n",
    "def classification_model():\n",
    "    # create model\n",
    "    model = Sequential()\n",
    "    model.add(Dense(num_pixels, activation='relu', input_shape=(num_pixels,)))\n",
    "    model.add(Dense(100, activation='relu'))\n",
    "    model.add(Dense(num_classes, activation='softmax'))\n",
    "    \n",
    "    \n",
    "    # compile model\n",
    "    model.compile(optimizer='adam', loss='categorical_crossentropy', metrics=['accuracy'])\n",
    "    return model"
   ]
  },
  {
   "cell_type": "markdown",
   "id": "5690098b-54da-4575-838d-2b4bb0706049",
   "metadata": {},
   "source": [
    "<a id='item332'></a>\n"
   ]
  },
  {
   "cell_type": "markdown",
   "id": "dbc54f7f-b0bc-4af6-ab8f-8ffba65d56e8",
   "metadata": {},
   "source": [
    "## Train and Test the Network\n"
   ]
  },
  {
   "cell_type": "code",
   "execution_count": 11,
   "id": "7c3ce34a-7d96-4b73-a9d6-a3e6a24b584f",
   "metadata": {},
   "outputs": [
    {
     "name": "stdout",
     "output_type": "stream",
     "text": [
      "Epoch 1/10\n",
      "1875/1875 - 14s - loss: 0.1847 - accuracy: 0.9435 - val_loss: 0.0907 - val_accuracy: 0.9714 - 14s/epoch - 7ms/step\n",
      "Epoch 2/10\n",
      "1875/1875 - 19s - loss: 0.0780 - accuracy: 0.9757 - val_loss: 0.0920 - val_accuracy: 0.9721 - 19s/epoch - 10ms/step\n",
      "Epoch 3/10\n",
      "1875/1875 - 18s - loss: 0.0529 - accuracy: 0.9833 - val_loss: 0.0789 - val_accuracy: 0.9769 - 18s/epoch - 10ms/step\n",
      "Epoch 4/10\n",
      "1875/1875 - 17s - loss: 0.0413 - accuracy: 0.9868 - val_loss: 0.0833 - val_accuracy: 0.9747 - 17s/epoch - 9ms/step\n",
      "Epoch 5/10\n",
      "1875/1875 - 17s - loss: 0.0312 - accuracy: 0.9899 - val_loss: 0.0802 - val_accuracy: 0.9781 - 17s/epoch - 9ms/step\n",
      "Epoch 6/10\n",
      "1875/1875 - 17s - loss: 0.0261 - accuracy: 0.9912 - val_loss: 0.0791 - val_accuracy: 0.9788 - 17s/epoch - 9ms/step\n",
      "Epoch 7/10\n",
      "1875/1875 - 17s - loss: 0.0246 - accuracy: 0.9922 - val_loss: 0.0739 - val_accuracy: 0.9809 - 17s/epoch - 9ms/step\n",
      "Epoch 8/10\n",
      "1875/1875 - 17s - loss: 0.0166 - accuracy: 0.9942 - val_loss: 0.0832 - val_accuracy: 0.9802 - 17s/epoch - 9ms/step\n",
      "Epoch 9/10\n",
      "1875/1875 - 19s - loss: 0.0178 - accuracy: 0.9943 - val_loss: 0.0965 - val_accuracy: 0.9782 - 19s/epoch - 10ms/step\n",
      "Epoch 10/10\n",
      "1875/1875 - 17s - loss: 0.0166 - accuracy: 0.9948 - val_loss: 0.0883 - val_accuracy: 0.9805 - 17s/epoch - 9ms/step\n"
     ]
    }
   ],
   "source": [
    "# build the model\n",
    "model = classification_model()\n",
    "\n",
    "# fit the model\n",
    "model.fit(X_train, y_train, validation_data=(X_test, y_test), epochs=10, verbose=2)\n",
    "\n",
    "# evaluate the model\n",
    "scores = model.evaluate(X_test, y_test, verbose=0)"
   ]
  },
  {
   "cell_type": "markdown",
   "id": "d7346129-0871-4ed8-a0f9-d60b4a031436",
   "metadata": {},
   "source": [
    "Let's print the accuracy and the corresponding error.\n"
   ]
  },
  {
   "cell_type": "code",
   "execution_count": 12,
   "id": "1ca30118-1d39-475d-9282-fd94a063fe2b",
   "metadata": {},
   "outputs": [
    {
     "name": "stdout",
     "output_type": "stream",
     "text": [
      "Accuracy: 0.9804999828338623% \n",
      " Error: 0.019500017166137695\n"
     ]
    }
   ],
   "source": [
    "print('Accuracy: {}% \\n Error: {}'.format(scores[1], 1 - scores[1]))        "
   ]
  },
  {
   "cell_type": "markdown",
   "id": "e3b91ba3-1e16-4627-bb05-2af2dc677da6",
   "metadata": {},
   "source": [
    "Just running 10 epochs could actually take over 20 minutes. But enjoy the results as they are getting generated.\n"
   ]
  },
  {
   "cell_type": "code",
   "execution_count": 13,
   "id": "c72b31e3-98ce-477f-a0f9-e12539e9296c",
   "metadata": {},
   "outputs": [
    {
     "name": "stderr",
     "output_type": "stream",
     "text": [
      "c:\\Users\\hp\\anaconda3\\Lib\\site-packages\\keras\\src\\engine\\training.py:3079: UserWarning: You are saving your model as an HDF5 file via `model.save()`. This file format is considered legacy. We recommend using instead the native Keras format, e.g. `model.save('my_model.keras')`.\n",
      "  saving_api.save_model(\n"
     ]
    }
   ],
   "source": [
    "model.save('classification_model.h5')"
   ]
  },
  {
   "cell_type": "markdown",
   "id": "71b57c76-4672-43ff-a3a1-718f4a2d431d",
   "metadata": {},
   "source": [
    "Since our model contains multidimensional arrays of data, then models are usually saved as .h5 files.\n"
   ]
  },
  {
   "cell_type": "markdown",
   "id": "6c002e07-6613-4216-8592-d0bb380c158d",
   "metadata": {},
   "source": [
    "When you are ready to use your model again, you use the load_model function from <strong>keras.models</strong>.\n"
   ]
  },
  {
   "cell_type": "code",
   "execution_count": 14,
   "id": "f565995e-4175-475c-96fc-87de6803dd66",
   "metadata": {},
   "outputs": [],
   "source": [
    "from keras.models import load_model"
   ]
  },
  {
   "cell_type": "code",
   "execution_count": 15,
   "id": "de31ca51-19f9-4fc7-b059-6aaefc697827",
   "metadata": {},
   "outputs": [],
   "source": [
    "pretrained_model = load_model('classification_model.h5')"
   ]
  }
 ],
 "metadata": {
  "kernelspec": {
   "display_name": "base",
   "language": "python",
   "name": "python3"
  },
  "language_info": {
   "codemirror_mode": {
    "name": "ipython",
    "version": 3
   },
   "file_extension": ".py",
   "mimetype": "text/x-python",
   "name": "python",
   "nbconvert_exporter": "python",
   "pygments_lexer": "ipython3",
   "version": "3.11.4"
  }
 },
 "nbformat": 4,
 "nbformat_minor": 4
}
